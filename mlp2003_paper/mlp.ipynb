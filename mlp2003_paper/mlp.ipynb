{
 "cells": [
  {
   "attachments": {},
   "cell_type": "markdown",
   "metadata": {},
   "source": [
    "## MLP \n",
    "\n",
    "MLP stands for Multi Layer Perceptron.\n",
    "\n",
    "This notebook contains implementation of one of the first successful neural net implementation for natural language processing. [A Neural Probabilistic Language Model](https://www.jmlr.org/papers/volume3/bengio03a/bengio03a.pdf)\n",
    "\n",
    "This implementation is only educational, for my better understanding of basics of NN for NLP and the ability of reading and implementing raw deep learning papers."
   ]
  },
  {
   "cell_type": "code",
   "execution_count": 1,
   "metadata": {},
   "outputs": [],
   "source": [
    "import torch"
   ]
  },
  {
   "cell_type": "code",
   "execution_count": 2,
   "metadata": {},
   "outputs": [
    {
     "name": "stdout",
     "output_type": "stream",
     "text": [
      "Number of names: 54548\n"
     ]
    }
   ],
   "source": [
    "with open(\"../bigram/polish_names.txt\", \"r\") as file:\n",
    "    names = [name.rstrip(\"\\n\") for name in file.readlines()]\n",
    "print(f\"Number of names: {len(names)}\")"
   ]
  },
  {
   "cell_type": "code",
   "execution_count": 3,
   "metadata": {},
   "outputs": [
    {
     "name": "stdout",
     "output_type": "stream",
     "text": [
      "Number of names without words containing nonascii characters 46168.\n"
     ]
    }
   ],
   "source": [
    "def isascii(string: str):\n",
    "    for ch in string:\n",
    "        if ord(ch) not in range(97, 123): return False\n",
    "    return True\n",
    "\n",
    "filtered_names = [name for name in filter(lambda item: isascii(item), names)]\n",
    "print(f\"Number of names without words containing nonascii characters {len(filtered_names)}.\")"
   ]
  },
  {
   "cell_type": "code",
   "execution_count": 4,
   "metadata": {},
   "outputs": [
    {
     "name": "stdout",
     "output_type": "stream",
     "text": [
      "['.', 'k', 'r', 'z', 'y', 's', 'z', 't', 'o', 'f', '.']\n"
     ]
    }
   ],
   "source": [
    "for name in filtered_names[1:2]:\n",
    "    word = list(\".\" + name + \".\")\n",
    "    print(word)"
   ]
  },
  {
   "attachments": {},
   "cell_type": "markdown",
   "metadata": {},
   "source": [
    "### Create mapping C"
   ]
  },
  {
   "attachments": {},
   "cell_type": "markdown",
   "metadata": {},
   "source": [
    "For the mlp model we need to have mapping C that will represent each letter i from the training set into distributed feature vector R^m.\n",
    "\n",
    "In practice mapping C will be matrix |V| x m, where V is a vocabulary and |V| is size of that vocabulary.\n",
    "\n",
    "The number m is a user defined number of columns for each letter in the vocabulary."
   ]
  },
  {
   "cell_type": "code",
   "execution_count": 5,
   "metadata": {},
   "outputs": [
    {
     "name": "stdout",
     "output_type": "stream",
     "text": [
      "|V| = 27\n",
      " V --> ['.', 'a', 'b', 'c', 'd', 'e', 'f', 'g', 'h', 'i', 'j', 'k', 'l', 'm', 'n', 'o', 'p', 'q', 'r', 's', 't', 'u', 'v', 'w', 'x', 'y', 'z']\n"
     ]
    }
   ],
   "source": [
    "filtered_names.append(\".\")\n",
    "V = list(sorted(set(''.join(filtered_names))))\n",
    "print(f\"|V| = {len(V)}\\n V --> {V}\")"
   ]
  },
  {
   "cell_type": "code",
   "execution_count": 6,
   "metadata": {},
   "outputs": [],
   "source": [
    "#character to int\n",
    "stoi = {char:num for num, char in enumerate(V)}\n",
    "\n",
    "#int to character\n",
    "itos = {num:char for char, num in stoi.items()}\n",
    "\n",
    "assert stoi['b'] == 2\n",
    "assert itos[2] == 'b'"
   ]
  },
  {
   "cell_type": "code",
   "execution_count": 7,
   "metadata": {},
   "outputs": [
    {
     "name": "stdout",
     "output_type": "stream",
     "text": [
      "Mapping C is ---> 27 x 10\n"
     ]
    }
   ],
   "source": [
    "C = torch.randn((27, 10), dtype=torch.float, requires_grad=True, device=\"cuda\")\n",
    "print(f\"Mapping C is ---> {C.shape[0]} x {C.shape[1]}\")"
   ]
  },
  {
   "attachments": {},
   "cell_type": "markdown",
   "metadata": {},
   "source": [
    "Meaning that each letter in our dataset is repesented by 3 values."
   ]
  },
  {
   "attachments": {},
   "cell_type": "markdown",
   "metadata": {},
   "source": [
    "Paper also requires certain number of previous inputs, proposed number in the paper is 3, and that's how many we are going to use."
   ]
  },
  {
   "cell_type": "code",
   "execution_count": 8,
   "metadata": {},
   "outputs": [],
   "source": [
    "import random\n",
    "\n",
    "num_previous = 4\n",
    "X, Y = [], []\n",
    "random.shuffle(filtered_names)\n",
    "\n",
    "for name in filtered_names:\n",
    "\n",
    "    #initialize list of ['.','.','.'] for the first character.\n",
    "    tmp = [0] * num_previous\n",
    "    for char in name + '.':\n",
    "        X.append(tmp)\n",
    "        Y.append(stoi[char])\n",
    "        # print(''.join(itos[ch] for ch in tmp), \"-->\", char)\n",
    "        tmp = tmp[1:] + [stoi[char]]\n",
    "\n",
    "X = torch.tensor(X, device='cuda')\n",
    "Y = torch.tensor(Y, device='cuda')\n",
    "\n",
    "# train, validation, test split\n",
    "train = int(len(X) * 0.8)\n",
    "test = int(len(X) * 0.9)\n",
    "\n",
    "X_train, Y_train = X[:train], Y[:train]\n",
    "X_val, Y_val = X[train:test], Y[train:test]\n",
    "X_test, Y_test = X[test:], Y[test:]\n",
    "\n",
    "assert X.shape[0] == (X_train.shape[0] + X_val.shape[0] + X_test.shape[0])\n",
    "assert Y.shape[0] == (Y_train.shape[0] + Y_val.shape[0] + Y_test.shape[0])"
   ]
  },
  {
   "attachments": {},
   "cell_type": "markdown",
   "metadata": {},
   "source": [
    "### Create hidden layer of NN"
   ]
  },
  {
   "cell_type": "code",
   "execution_count": 9,
   "metadata": {},
   "outputs": [
    {
     "data": {
      "text/plain": [
       "torch.Size([342781, 4, 10])"
      ]
     },
     "execution_count": 9,
     "metadata": {},
     "output_type": "execute_result"
    }
   ],
   "source": [
    "#embedding for letter and C\n",
    "embedding = C[X]\n",
    "embedding.shape"
   ]
  },
  {
   "attachments": {},
   "cell_type": "markdown",
   "metadata": {},
   "source": [
    "Here as an example, we are taking element at index 1 from X which is: ..p --> i, and the embedding C[X][1, 2] is representing this selection"
   ]
  },
  {
   "cell_type": "code",
   "execution_count": 10,
   "metadata": {},
   "outputs": [
    {
     "data": {
      "text/plain": [
       "(0,\n",
       " tensor([-0.6015,  1.1577, -0.1318, -0.5271,  1.8858, -1.6796,  0.6778,  0.7061,\n",
       "         -1.1263,  1.3492], device='cuda:0', grad_fn=<SelectBackward0>))"
      ]
     },
     "execution_count": 10,
     "metadata": {},
     "output_type": "execute_result"
    }
   ],
   "source": [
    "X[1, 2].item(), C[X][1, 2]"
   ]
  },
  {
   "cell_type": "code",
   "execution_count": 11,
   "metadata": {},
   "outputs": [
    {
     "data": {
      "text/plain": [
       "tensor([False, False, False, False, False, False, False, False, False, False],\n",
       "       device='cuda:0')"
      ]
     },
     "execution_count": 11,
     "metadata": {},
     "output_type": "execute_result"
    }
   ],
   "source": [
    "C[X][1, 2] == C[stoi[\"p\"]]"
   ]
  },
  {
   "attachments": {},
   "cell_type": "markdown",
   "metadata": {},
   "source": [
    "As we can see the embedding work as it should, we are looking for letter 'p' in the embedding and it gives the same result as directly referencing matrix C"
   ]
  },
  {
   "cell_type": "code",
   "execution_count": 12,
   "metadata": {},
   "outputs": [
    {
     "data": {
      "text/plain": [
       "(torch.Size([342781, 4, 10]), torch.Size([342781, 4]))"
      ]
     },
     "execution_count": 12,
     "metadata": {},
     "output_type": "execute_result"
    }
   ],
   "source": [
    "embedding.shape, X.shape"
   ]
  },
  {
   "attachments": {},
   "cell_type": "markdown",
   "metadata": {},
   "source": [
    "Now last thing to do is to flatten the dimmensions of embedding to 2D array so we can do mathematical operations efficiently.\n",
    "\n",
    "To do that in place without re-creating embedding matrix from the scratch we are going to use view() function from PyTorch API."
   ]
  },
  {
   "cell_type": "code",
   "execution_count": 13,
   "metadata": {},
   "outputs": [
    {
     "data": {
      "text/plain": [
       "torch.Size([342781, 40])"
      ]
     },
     "execution_count": 13,
     "metadata": {},
     "output_type": "execute_result"
    }
   ],
   "source": [
    "embedding.view((X.shape[0], C.shape[1] * num_previous)).shape"
   ]
  },
  {
   "cell_type": "code",
   "execution_count": 14,
   "metadata": {},
   "outputs": [],
   "source": [
    "#first number is number of columns in embedding matrix and second is number of neurons in our hidden layer.\n",
    "W1 = torch.randn((C.shape[1] * num_previous, 200), requires_grad=True, device='cuda')\n",
    "b1 = torch.randn(200, requires_grad=True, device=\"cuda\")\n",
    "W2 = torch.randn((200, len(V)), requires_grad=True, device='cuda')\n",
    "b2 = torch.randn(len(V), requires_grad=True, device='cuda')"
   ]
  },
  {
   "attachments": {},
   "cell_type": "markdown",
   "metadata": {},
   "source": [
    "#### Forward pass"
   ]
  },
  {
   "cell_type": "code",
   "execution_count": 15,
   "metadata": {},
   "outputs": [],
   "source": [
    "import torch.nn.functional as F\n",
    "from alive_progress import alive_bar\n",
    "\n",
    "epoch_counter = 1\n",
    "params = [W1, b1, W2, b2, C]\n",
    "losses = []"
   ]
  },
  {
   "cell_type": "code",
   "execution_count": 45,
   "metadata": {},
   "outputs": [
    {
     "name": "stdout",
     "output_type": "stream",
     "text": [
      "Learning |████████████████████████████████████████| 20000/20000 [100%] in 28.1s (710.80/s) \n",
      "Loss on validation dataset in 240001 epochs ---> 2.27984881401062\n"
     ]
    }
   ],
   "source": [
    "epochs = 20000\n",
    "learning_rate = 0.1\n",
    "\n",
    "with alive_bar(epochs, dual_line=True, title=\"Learning\") as bar:\n",
    "    for epoch in range(epochs):\n",
    "        #create minibatch of data, using size of 512 since it's running on GTX 1080Ti with 12GB of VRAM\n",
    "        batch = torch.randint(0, X_train.shape[0], (512,))\n",
    "        \n",
    "        #perform operations on selected rows to the batch\n",
    "        embedding = C[X_train[batch]]\n",
    "    \n",
    "        #calculate activation for the hidden layer\n",
    "        activation = torch.tanh(embedding.view(-1, num_previous * C.shape[1]) @ W1 + b1)\n",
    "    \n",
    "        #compute loss\n",
    "        loss = F.cross_entropy((activation @ W2 + b2), Y_train[batch])\n",
    "        bar.text = f\"Loss in epoch {epoch_counter} ---> {loss.item()}\"\n",
    "    \n",
    "        #append flattened loss by log10, so it will look better on the plot\n",
    "        losses.append(loss.log10().item())\n",
    "    \n",
    "        # print(f\"Loss in epoch {epoch_counter} ---> {loss.item()}\")\n",
    "        epoch_counter += 1\n",
    "    \n",
    "        #Clear previous gradient and perform backward pass\n",
    "        for p in params:\n",
    "            p.grad = None\n",
    "        loss.backward()\n",
    "    \n",
    "        for p in params:\n",
    "            p.data += -learning_rate * p.grad\n",
    "        bar()\n",
    "    \n",
    "val_emb = C[X_val]\n",
    "val_act = torch.tanh(val_emb.view(-1, C.shape[1] * num_previous) @ W1 + b1)\n",
    "print(f\"Loss on validation dataset in {epoch_counter} epochs ---> {F.cross_entropy((val_act @ W2 + b2), Y_val).item()}\")"
   ]
  },
  {
   "cell_type": "code",
   "execution_count": 17,
   "metadata": {},
   "outputs": [],
   "source": [
    "import matplotlib.pyplot as plt\n",
    "%matplotlib inline"
   ]
  },
  {
   "cell_type": "code",
   "execution_count": 46,
   "metadata": {},
   "outputs": [
    {
     "data": {
      "text/plain": [
       "[<matplotlib.lines.Line2D at 0x27098716d70>]"
      ]
     },
     "execution_count": 46,
     "metadata": {},
     "output_type": "execute_result"
    },
    {
     "data": {
      "image/png": "[encoded data removed]",
      "text/plain": [
       "<Figure size 1000x1000 with 1 Axes>"
      ]
     },
     "metadata": {},
     "output_type": "display_data"
    }
   ],
   "source": [
    "plt.figure(figsize=(10,10))\n",
    "plt.title(\"Learning curve\")\n",
    "plt.xlabel(\"Number of iterations\")\n",
    "plt.ylabel(\"Loss (log10(loss))\")\n",
    "plt.plot(range(epoch_counter-1), losses)"
   ]
  },
  {
   "cell_type": "code",
   "execution_count": 47,
   "metadata": {},
   "outputs": [
    {
     "name": "stdout",
     "output_type": "stream",
     "text": [
      "Loss on test dataset in 240001 epochs ---> 2.263584852218628\n"
     ]
    }
   ],
   "source": [
    "test_emb = C[X_test]\n",
    "test_act = torch.tanh(test_emb.view(-1, C.shape[1] * num_previous) @ W1 + b1)\n",
    "print(f\"Loss on test dataset in {epoch_counter} epochs ---> {F.cross_entropy((test_act @ W2 + b2), Y_test).item()}\")"
   ]
  },
  {
   "cell_type": "code",
   "execution_count": 51,
   "metadata": {},
   "outputs": [
    {
     "name": "stdout",
     "output_type": "stream",
     "text": [
      "ashusumantako.\n",
      "newek.\n",
      "imek.\n",
      "soyn.\n",
      "batio.\n",
      "tron.\n",
      "zyaziba.\n",
      "amnika.\n",
      "abdoneka.\n",
      "coli.\n",
      "klar.\n",
      "gantoy.\n",
      "frorita.\n",
      "emka.\n",
      "sarwan.\n"
     ]
    }
   ],
   "source": [
    "for _ in range(15):\n",
    "    context = [0] * num_previous\n",
    "    example = []\n",
    "    while True:\n",
    "        emb = C[torch.tensor([context])]\n",
    "        act = torch.tanh(emb.view(1, -1) @ W1 + b1)\n",
    "        prob = F.softmax(act @ W2 + b2, dim=1)\n",
    "        sample = torch.multinomial(prob, 1, replacement=True).item()\n",
    "        example.append(itos[sample])\n",
    "        context = context[1:] + [sample]\n",
    "        if sample == 0:\n",
    "            break\n",
    "    print(''.join(example))"
   ]
  },
  {
   "attachments": {},
   "cell_type": "markdown",
   "metadata": {},
   "source": [
    "As we can see some of the results are pretty close to actual names, or at least sound \"name-ish\" if you say them out loud."
   ]
  },
  {
   "attachments": {},
   "cell_type": "markdown",
   "metadata": {},
   "source": [
    "## PyTorch-ish apporach"
   ]
  }
 ],
 "metadata": {
  "kernelspec": {
   "display_name": "pytorch",
   "language": "python",
   "name": "python3"
  },
  "language_info": {
   "codemirror_mode": {
    "name": "ipython",
    "version": 3
   },
   "file_extension": ".py",
   "mimetype": "text/x-python",
   "name": "python",
   "nbconvert_exporter": "python",
   "pygments_lexer": "ipython3",
   "version": "3.10.9"
  },
  "orig_nbformat": 4,
  "vscode": {
   "interpreter": {
    "hash": "eedefb694e5f244dd6e58dcf58ddaa700922c2c371a7888a3a3f6cdbc602024a"
   }
  }
 },
 "nbformat": 4,
 "nbformat_minor": 2
}
