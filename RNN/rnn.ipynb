{
 "cells": [
  {
   "attachments": {},
   "cell_type": "markdown",
   "metadata": {},
   "source": [
    "### RNN Model\n",
    "\n",
    "This notebook contains implementation of RNN model from the [Paper](https://www.fit.vutbr.cz/research/groups/speech/publi/2010/mikolov_interspeech2010_IS100722.pdf)\n",
    "\n",
    "I will also continously use names dataset and mapping C for representing letters."
   ]
  },
  {
   "cell_type": "code",
   "execution_count": 1,
   "metadata": {},
   "outputs": [],
   "source": [
    "import torch\n",
    "import torch.nn.functional as f\n",
    "from dataclasses import dataclass\n",
    "from typing import Tuple, List, Callable\n",
    "from torch.utils.data import Dataset, DataLoader\n",
    "\n",
    "@dataclass\n",
    "class NetworkConfig:\n",
    "    c_embedding: int = 50 # C.shape --> 27 X 20\n",
    "    vocab_size: int = 27\n",
    "    batch_size: int = 512\n",
    "    input_weights: int = 1000# Wx.shape --> 20 x 1000; Wx @ x_t --> 512 x 1000\n",
    "    tanh_gain: float = 5 / 3\n",
    "\n",
    "@dataclass\n",
    "class ForwardData:\n",
    "    X: list\n",
    "    Y: list\n",
    "    t: int"
   ]
  },
  {
   "cell_type": "code",
   "execution_count": 2,
   "metadata": {},
   "outputs": [],
   "source": [
    "class RNN_cell(torch.nn.Module):\n",
    "\n",
    "    def __init__(self, config: NetworkConfig) -> None:\n",
    "        \"\"\"Initialize cell weights and biases tensors.\n",
    "\n",
    "        Args:\n",
    "            config (NetworkConfig): Dataclass containing network configuration.\n",
    "        \"\"\"\n",
    "        super().__init__()\n",
    "        self.Wxt = torch.nn.Linear(config.c_embedding, config.input_weights)\n",
    "        self.Wat = torch.nn.Linear(config.input_weights, config.input_weights)\n",
    "        torch.nn.init.kaiming_normal_(self.Wat.weight, nonlinearity='tanh') # samples from N(0, (25 / 9 * config.input_weights)) --> see the docs.\n",
    "        torch.nn.init.kaiming_normal_(self.Wxt.weight, nonlinearity='tanh') # samples from N(0, (25 / 9 * config.c_embedding)) --> see the docs.\n",
    "\n",
    "    \n",
    "    def forward(self, xt: torch.Tensor, ht: torch.Tensor) -> torch.Tensor:\n",
    "        \"\"\"Compute forward pass of RNN Cell.\n",
    "\n",
    "        Args:\n",
    "            xt (torch.Tensor): Tensor containing input data.\n",
    "            ht (torch.Tensor): Tensor containing previous context.\n",
    "\n",
    "        Returns:\n",
    "            torch.Tensor: Tensor with applied tanh nonlinearity.\n",
    "        \"\"\"\n",
    "        #xt1 = xt (512x20) @ Wxt (20x200) + bx(1,200) -----> (512x200) \\\n",
    "        #                                                               | --> tanh((512,200))\n",
    "        #h_t = h_t-1 (512x200) @ (200x200) + bh(1,200) ----> (512x200) /\n",
    "        activation = self.Wxt(xt) + self.Wat(ht)\n",
    "        return torch.tanh(activation)\n",
    "\n",
    "class RNN(torch.nn.Module):\n",
    "\n",
    "    def __init__(self, config: NetworkConfig = NetworkConfig):\n",
    "        \"\"\"\n",
    "        Initialize RNN model with weights and biases.\n",
    "\n",
    "        Args:\n",
    "            config (NetworkConfig, optional): Class with model config. Defaults to NetworkConfig.\n",
    "        \"\"\"\n",
    "        super().__init__()\n",
    "        self.start = torch.nn.Parameter(torch.zeros(1, config.input_weights))\n",
    "        self.cell = RNN_cell(config)\n",
    "        self.x_embedding = torch.nn.Embedding(config.vocab_size, config.c_embedding)\n",
    "        self.W_logits = torch.nn.Linear(config.input_weights, config.vocab_size)        # squash ex: (512x200) @ (200, 27) --> (512, 27)\n",
    "        torch.nn.init.kaiming_normal_(self.W_logits.weight, nonlinearity='tanh', mode='fan_in')\n",
    "    \n",
    "    def forward(self, X: torch.Tensor, Y: torch.Tensor) -> Tuple[torch.Tensor, torch.Tensor]:\n",
    "        \"\"\"\n",
    "        Compute forward pass of the model.\n",
    "\n",
    "        Args:\n",
    "            data (Tuple[List, List]): Tuple containing list of training samples.\n",
    "            t (int): Number of timestamps (length of batch sequence).\n",
    "        Returns:\n",
    "            Tuple[torch.Tensor, torch.Tensor]: Tuple containing logits and loss tensors.\n",
    "        \"\"\"\n",
    "\n",
    "        batch_size = X.shape[0]\n",
    "        t = X.shape[1]\n",
    "\n",
    "        #adjust \"dummy\" weights for timestamp 0 to fit with batch\n",
    "        h_prev_context = self.start.expand((batch_size, NetworkConfig.input_weights))\n",
    "\n",
    "        #create tensor with input data and targets with shape ------------------------------------> (config.batch_size, t)\n",
    "        # xt = torch.tensor(data.X, requires_grad=False).reshape(batch_size, t)      # (config.batch_size, t)\n",
    "        # targets = torch.tensor(data.Y, requires_grad=False).reshape(batch_size, t) # (config.batch_size, t)\n",
    "\n",
    "        #list containing forward weights for every timestamp\n",
    "        hidden_states = []                                              # [tensor_1.shape(512, 200), tensor_2.shape(512,200), ...., tensor_t.shape(512, 200)]\n",
    "        for i in range(t):\n",
    "            ht = self.cell(self.x_embedding(X[:, i]), h_prev_context)\n",
    "            h_prev_context = ht                                         # (batch, 200)\n",
    "            hidden_states.append(ht)\n",
    "        \n",
    "        #Stack all the weights into a tensor and calculate loss\n",
    "        results = torch.stack(hidden_states, 1) # (config.batch_size, t, config.input_weights)\n",
    "        logits = self.W_logits(results)         # (config.batch_size, t, config.vocab_size)\n",
    "        loss = f.cross_entropy(logits.view(-1, NetworkConfig.vocab_size), Y.view(batch_size * t), ignore_index=-1)\n",
    "\n",
    "        return logits, loss\n",
    "\n",
    "    def predict(self, start_character: torch.Tensor, func: Callable[[int], str]) -> list[str]:\n",
    "        \"\"\"Predicts output based on input character.\n",
    "\n",
    "        Args:\n",
    "            start_character (torch.Tensor): Character to start with.\n",
    "            func (Callable): Function to map int into string.\n",
    "\n",
    "        Returns:\n",
    "            list[str]: List with predicted characters.\n",
    "        \"\"\"\n",
    "        self.eval()\n",
    "        batch_size = 1\n",
    "        h_prev_context = self.start.expand((batch_size, NetworkConfig.input_weights))\n",
    "        xt = start_character.reshape(1, 1)\n",
    "\n",
    "        results = [func[start_character.item()]]\n",
    "        while xt.item():\n",
    "            ht = self.cell(self.x_embedding(xt.reshape(1,1)), h_prev_context)\n",
    "            h_prev_context = ht\n",
    "            logits = self.W_logits(ht)\n",
    "            probability = torch.softmax(logits.view(1, NetworkConfig.vocab_size), 1)\n",
    "            result = torch.multinomial(probability, 1, replacement=True)\n",
    "            results.append(func[result.item()])\n",
    "            xt = result\n",
    "        \n",
    "        self.train(True)\n",
    "\n",
    "        return results\n",
    "    \n",
    "    @torch.inference_mode()\n",
    "    @staticmethod\n",
    "    def validation_loop(model, val_data: DataLoader) -> float:\n",
    "        val_loss = 0\n",
    "        for i, (X, Y) in enumerate(val_data):\n",
    "            X = X.to('cuda')\n",
    "            Y = Y.to('cuda')\n",
    "            logits, loss = model.forward(X, Y)\n",
    "            val_loss += loss.item()\n",
    "        return val_loss / (i + 1)\n",
    "\n",
    "    @staticmethod\n",
    "    def forward_data_to_tensor(f_data: ForwardData, device: str='cpu') -> Tuple[torch.Tensor, torch.Tensor, torch.Tensor]:\n",
    "        \"\"\"Create torch.tensors from custom ForwardData class and send it to specified device. \n",
    "\n",
    "        Args:\n",
    "            f_data (ForwardData): Data to be converted.\n",
    "            device (str, optional): Device where tensor should be. Defaults to 'cpu'.\n",
    "\n",
    "        Returns:\n",
    "            Tuple[torch.Tensor, torch.Tensor, torch.Tensor]: Tensors: X, Y, t casted to device.\n",
    "        \"\"\"\n",
    "        batch_size = len(f_data.X)\n",
    "        X = torch.tensor(f_data.X, requires_grad=False, device=device).reshape((batch_size, f_data.t))\n",
    "        Y = torch.tensor(f_data.Y, requires_grad=False, device=device).reshape((batch_size, f_data.t))\n",
    "        return X, Y, torch.tensor(f_data.t)"
   ]
  },
  {
   "cell_type": "code",
   "execution_count": 24,
   "metadata": {},
   "outputs": [
    {
     "name": "stdout",
     "output_type": "stream",
     "text": [
      "15 ['a', 'b', 'c', 'd', 'e', 'f', 'g', 'h', 'i', 'j', 'k', 'l', 'm', 'n', 'o', 'p', 'q', 'r', 's', 't', 'u', 'v', 'w', 'x', 'y', 'z']\n"
     ]
    }
   ],
   "source": [
    "class RDataset(Dataset):\n",
    "\n",
    "    def __init__(self, data: List[str], characters: List[str], max_len: int) -> None:\n",
    "        self.words = data\n",
    "        self.characters = characters\n",
    "        self.max_word_len = max_len\n",
    "        self.stoi = {char:val + 1 for val, char in enumerate(self.characters)}\n",
    "        self.itos = {val:char for char, val in self.stoi.items()}\n",
    "    \n",
    "    def __len__(self):\n",
    "        return len(self.words)\n",
    "    \n",
    "    def encode(self, word: str) -> torch.Tensor:\n",
    "        return torch.tensor([self.stoi[ch] for ch in word], dtype=torch.long, requires_grad=False)\n",
    "    \n",
    "    def __getitem__(self, index):\n",
    "        word = self.words[index]\n",
    "        index = self.encode(word)\n",
    "        #pad the examples\n",
    "        x = torch.zeros(self.max_word_len + 1, dtype=torch.long, requires_grad=False)\n",
    "        y = torch.zeros_like(x, requires_grad=False)\n",
    "        x[1:len(index) + 1] = index\n",
    "        y[:len(index)] = index\n",
    "        y[len(index) + 1:] = -1\n",
    "        return x, y\n",
    "\n",
    "\n",
    "def _isascii(string: str) -> bool:\n",
    "    for ch in string:\n",
    "        if ord(ch) not in range(97, 123): return False\n",
    "    return True\n",
    "\n",
    "with open(\"../bigram/polish_names.txt\", \"r\") as file:\n",
    "    names = [name.rstrip(\"\\n\") for name in filter(lambda name: _isascii(name.rstrip(\"\\n\")), file.readlines())]\n",
    "\n",
    "data = [name for name in names if len(name) in range(3, 16)]\n",
    "perm = torch.randperm(len(data))\n",
    "data = [data[index] for index in perm.tolist()]\n",
    "characters, m_len = sorted(set(''.join(names))), len(max(data, key=lambda name: len(name)))\n",
    "\n",
    "print(m_len, sorted(set(''.join(names))))\n",
    "\n",
    "train_split = int(len(data) * 0.8)\n",
    "val_split = int(len(data) * 0.9)\n",
    "training_data = data[:train_split]\n",
    "validation_data = data[train_split:val_split]\n",
    "test_data = data[val_split:]\n",
    "\n",
    "training_data = RDataset(training_data, characters, m_len)\n",
    "# validation_data = RDataset(validation_data, characters, m_len)\n",
    "# test_data = RDataset(test_data, characters, m_len)\n",
    "\n",
    "training_loader = DataLoader(RDataset(training_data, characters, m_len), batch_size=NetworkConfig.batch_size)\n",
    "validation_loader = DataLoader(RDataset(validation_data, characters, m_len), batch_size=NetworkConfig.batch_size)\n",
    "test_loader = DataLoader(RDataset(test_data, characters, m_len), batch_size=NetworkConfig.batch_size)\n"
   ]
  },
  {
   "cell_type": "code",
   "execution_count": 4,
   "metadata": {},
   "outputs": [
    {
     "name": "stdout",
     "output_type": "stream",
     "text": [
      "RNN(\n",
      "  (cell): RNN_cell(\n",
      "    (Wxt): Linear(in_features=50, out_features=1000, bias=True)\n",
      "    (Wat): Linear(in_features=1000, out_features=1000, bias=True)\n",
      "  )\n",
      "  (x_embedding): Embedding(27, 50)\n",
      "  (W_logits): Linear(in_features=1000, out_features=27, bias=True)\n",
      ") \n",
      " AdamW (\n",
      "Parameter Group 0\n",
      "    amsgrad: False\n",
      "    betas: (0.9, 0.99)\n",
      "    capturable: False\n",
      "    eps: 1e-08\n",
      "    foreach: None\n",
      "    lr: 1e-05\n",
      "    maximize: False\n",
      "    weight_decay: 0.01\n",
      ")\n"
     ]
    }
   ],
   "source": [
    "# data = Dataset(\"../bigram/polish_names.txt\")\n",
    "# data.train_val_test_split()\n",
    "# print(data)\n",
    "model = RNN()\n",
    "model.to('cuda')\n",
    "optimizer = torch.optim.AdamW(model.parameters(), lr=0.00001, weight_decay=0.01, betas=(0.9, 0.99), eps=1e-8)\n",
    "min_loss: float = 999.9999\n",
    "\n",
    "model_train_loss, model_val_loss, epochs_counter = [], [], 1\n",
    "best_weights = model.state_dict()\n",
    "\n",
    "print(model, \"\\n\", optimizer)"
   ]
  },
  {
   "cell_type": "code",
   "execution_count": 14,
   "metadata": {},
   "outputs": [
    {
     "name": "stdout",
     "output_type": "stream",
     "text": [
      "Epoch 200 | Train loss --> 1.9912 | Val loss --> 2.1373 |\n",
      "Loading weights for min_loss=2.1373189555274115\n"
     ]
    },
    {
     "data": {
      "text/plain": [
       "<All keys matched successfully>"
      ]
     },
     "execution_count": 14,
     "metadata": {},
     "output_type": "execute_result"
    }
   ],
   "source": [
    "for it in range(50):\n",
    "    train_loss = []\n",
    "    for i, (X, Y) in enumerate(training_loader):\n",
    "        X = X.to('cuda')\n",
    "        Y = Y.to('cuda')\n",
    "        logits, loss = model.forward(X, Y)\n",
    "        train_loss.append(loss)\n",
    "        model.zero_grad(set_to_none=True)\n",
    "        loss.backward()\n",
    "        optimizer.step()\n",
    "    print(\"\\r\", end='')\n",
    "    if (validation_loss := RNN.validation_loop(model, validation_loader)) < min_loss:\n",
    "        best_weights = model.state_dict()\n",
    "        min_loss = validation_loss\n",
    "    train_loss = torch.tensor(train_loss).mean().item()\n",
    "    model_train_loss.append(train_loss)\n",
    "    model_val_loss.append(validation_loss)\n",
    "    print(f\"Epoch {epochs_counter} | Train loss --> {train_loss:.4f} | Val loss --> {validation_loss:.4f} |\", end='', flush=True)\n",
    "    epochs_counter += 1\n",
    "\n",
    "print(f\"\\nLoading weights for {min_loss=}\")\n",
    "model.load_state_dict(best_weights)"
   ]
  },
  {
   "cell_type": "code",
   "execution_count": 15,
   "metadata": {},
   "outputs": [
    {
     "data": {
      "text/plain": [
       "<matplotlib.legend.Legend at 0x23be47aafe0>"
      ]
     },
     "execution_count": 15,
     "metadata": {},
     "output_type": "execute_result"
    },
    {
     "data": {
      "image/png": "[encoded data removed]",
      "text/plain": [
       "<Figure size 1000x800 with 1 Axes>"
      ]
     },
     "metadata": {},
     "output_type": "display_data"
    }
   ],
   "source": [
    "import matplotlib.pyplot as plt\n",
    "%matplotlib inline\n",
    "\n",
    "plt.figure(figsize=(10, 8))\n",
    "plt.xlabel(\"# epochs\")\n",
    "plt.ylabel(\"Loss\")\n",
    "plt.title(f\"RNN learning curve {epochs_counter - 1} epochs\")\n",
    "plt.plot(range(epochs_counter - 1), model_train_loss, label=\"Train loss\")\n",
    "plt.plot(range(epochs_counter - 1), model_val_loss, label=\"Val loss\")\n",
    "plt.legend()"
   ]
  },
  {
   "cell_type": "code",
   "execution_count": 16,
   "metadata": {},
   "outputs": [
    {
     "name": "stdout",
     "output_type": "stream",
     "text": [
      "Test set loss: 2.1427\n"
     ]
    }
   ],
   "source": [
    "print(f\"Test set loss: {RNN.validation_loop(model, test_loader):.4f}\")"
   ]
  },
  {
   "cell_type": "code",
   "execution_count": 33,
   "metadata": {},
   "outputs": [],
   "source": [
    "torch.save(model.state_dict(), \"./model.pt\")"
   ]
  },
  {
   "cell_type": "code",
   "execution_count": 8,
   "metadata": {},
   "outputs": [
    {
     "data": {
      "text/plain": [
       "RNN(50, 1000, batch_first=True)"
      ]
     },
     "execution_count": 8,
     "metadata": {},
     "output_type": "execute_result"
    }
   ],
   "source": [
    "t_rnn = torch.nn.RNN(batch_first=True,\n",
    "                     input_size=NetworkConfig.c_embedding,\n",
    "                     hidden_size=NetworkConfig.input_weights)\n",
    "\n",
    "t_optimizer = torch.optim.AdamW(t_rnn.parameters(), lr=0.0001, weight_decay=0.01, betas=(0.9, 0.99), eps=1e-8)\n",
    "t_embedding = torch.nn.Embedding(NetworkConfig.vocab_size, NetworkConfig.c_embedding ,device='cuda')\n",
    "t_logits = torch.nn.Linear(NetworkConfig.input_weights, NetworkConfig.vocab_size, device='cuda')\n",
    "t_m_loss: float = 999.99\n",
    "t_m_weights = t_rnn.state_dict()\n",
    "t_rnn.to('cuda')"
   ]
  },
  {
   "cell_type": "code",
   "execution_count": 12,
   "metadata": {},
   "outputs": [
    {
     "name": "stdout",
     "output_type": "stream",
     "text": [
      "Val loss after 50 epochs --> 2.1834\t Current t_m_loss=2.1794Loading weights for loss: 2.1793947219848633\n"
     ]
    },
    {
     "data": {
      "text/plain": [
       "<All keys matched successfully>"
      ]
     },
     "execution_count": 12,
     "metadata": {},
     "output_type": "execute_result"
    }
   ],
   "source": [
    "for it in range(50):\n",
    "    for i, (X_t, Y_t) in enumerate(training_loader): \n",
    "        X_t = X_t.to('cuda')\n",
    "        Y_t = Y_t.to('cuda')\n",
    "\n",
    "        X_t = t_embedding(X_t)\n",
    "        h_0 = torch.zeros((1, X_t.shape[0], NetworkConfig.input_weights), device='cuda')\n",
    "        output, hidden = t_rnn(X_t, h_0)\n",
    "\n",
    "        #done only for excersise, normally would use nn.CrossEntropyLoss\n",
    "        logits = t_logits(output)\n",
    "        loss = f.cross_entropy(logits.view(-1, NetworkConfig.vocab_size), Y_t.view(-1), ignore_index=-1)\n",
    "        t_rnn.zero_grad(set_to_none=True)\n",
    "        loss.backward()\n",
    "        t_optimizer.step()\n",
    "\n",
    "    \n",
    "    t_rnn.eval()\n",
    "    losses_v = []\n",
    "    for j, (X_val, Y_val) in enumerate(validation_loader):\n",
    "        X_val = X_val.to('cuda')\n",
    "        Y_val = Y_val.to('cuda')\n",
    "\n",
    "        X_val = t_embedding(X_val)\n",
    "        h_0_val = torch.zeros((1, X_val.shape[0], NetworkConfig.input_weights), device='cuda')\n",
    "\n",
    "        output_v, hidden_v = t_rnn(X_val, h_0_val)\n",
    "\n",
    "        #done only for excersise, normally would use nn.CrossEntropyLoss\n",
    "        logits_v = t_logits(output_v)\n",
    "        loss_v = f.cross_entropy(logits_v.view(-1, NetworkConfig.vocab_size), Y_val.view(-1), ignore_index=-1)\n",
    "\n",
    "        losses_v.append(loss_v)\n",
    "\n",
    "    losses_v = torch.tensor(losses_v).mean().item()\n",
    "    if losses_v < t_m_loss:\n",
    "        t_m_loss = losses_v\n",
    "        t_m_weights = t_rnn.state_dict()\n",
    "    print(\"\\r\", end='')\n",
    "    print(f\"Val loss after {it + 1} epochs --> {losses_v:.4f}\\t Current {t_m_loss=:.4f}\", end='', flush=True)\n",
    "    t_rnn.train(True)\n",
    "\n",
    "print(f\"Loading weights for loss: {t_m_loss}\")\n",
    "t_rnn.load_state_dict(t_m_weights)"
   ]
  }
 ],
 "metadata": {
  "kernelspec": {
   "display_name": "pytorch",
   "language": "python",
   "name": "python3"
  },
  "language_info": {
   "codemirror_mode": {
    "name": "ipython",
    "version": 3
   },
   "file_extension": ".py",
   "mimetype": "text/x-python",
   "name": "python",
   "nbconvert_exporter": "python",
   "pygments_lexer": "ipython3",
   "version": "3.10.9"
  },
  "orig_nbformat": 4,
  "vscode": {
   "interpreter": {
    "hash": "eedefb694e5f244dd6e58dcf58ddaa700922c2c371a7888a3a3f6cdbc602024a"
   }
  }
 },
 "nbformat": 4,
 "nbformat_minor": 2
}
